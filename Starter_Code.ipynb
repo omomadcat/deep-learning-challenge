{
 "cells": [
  {
   "cell_type": "markdown",
   "metadata": {},
   "source": [
    "## Preprocessing"
   ]
  },
  {
   "cell_type": "code",
   "execution_count": 1,
   "metadata": {},
   "outputs": [
    {
     "data": {
      "text/html": [
       "<div>\n",
       "<style scoped>\n",
       "    .dataframe tbody tr th:only-of-type {\n",
       "        vertical-align: middle;\n",
       "    }\n",
       "\n",
       "    .dataframe tbody tr th {\n",
       "        vertical-align: top;\n",
       "    }\n",
       "\n",
       "    .dataframe thead th {\n",
       "        text-align: right;\n",
       "    }\n",
       "</style>\n",
       "<table border=\"1\" class=\"dataframe\">\n",
       "  <thead>\n",
       "    <tr style=\"text-align: right;\">\n",
       "      <th></th>\n",
       "      <th>EIN</th>\n",
       "      <th>NAME</th>\n",
       "      <th>APPLICATION_TYPE</th>\n",
       "      <th>AFFILIATION</th>\n",
       "      <th>CLASSIFICATION</th>\n",
       "      <th>USE_CASE</th>\n",
       "      <th>ORGANIZATION</th>\n",
       "      <th>STATUS</th>\n",
       "      <th>INCOME_AMT</th>\n",
       "      <th>SPECIAL_CONSIDERATIONS</th>\n",
       "      <th>ASK_AMT</th>\n",
       "      <th>IS_SUCCESSFUL</th>\n",
       "    </tr>\n",
       "  </thead>\n",
       "  <tbody>\n",
       "    <tr>\n",
       "      <th>0</th>\n",
       "      <td>10520599</td>\n",
       "      <td>BLUE KNIGHTS MOTORCYCLE CLUB</td>\n",
       "      <td>T10</td>\n",
       "      <td>Independent</td>\n",
       "      <td>C1000</td>\n",
       "      <td>ProductDev</td>\n",
       "      <td>Association</td>\n",
       "      <td>1</td>\n",
       "      <td>0</td>\n",
       "      <td>N</td>\n",
       "      <td>5000</td>\n",
       "      <td>1</td>\n",
       "    </tr>\n",
       "    <tr>\n",
       "      <th>1</th>\n",
       "      <td>10531628</td>\n",
       "      <td>AMERICAN CHESAPEAKE CLUB CHARITABLE TR</td>\n",
       "      <td>T3</td>\n",
       "      <td>Independent</td>\n",
       "      <td>C2000</td>\n",
       "      <td>Preservation</td>\n",
       "      <td>Co-operative</td>\n",
       "      <td>1</td>\n",
       "      <td>1-9999</td>\n",
       "      <td>N</td>\n",
       "      <td>108590</td>\n",
       "      <td>1</td>\n",
       "    </tr>\n",
       "    <tr>\n",
       "      <th>2</th>\n",
       "      <td>10547893</td>\n",
       "      <td>ST CLOUD PROFESSIONAL FIREFIGHTERS</td>\n",
       "      <td>T5</td>\n",
       "      <td>CompanySponsored</td>\n",
       "      <td>C3000</td>\n",
       "      <td>ProductDev</td>\n",
       "      <td>Association</td>\n",
       "      <td>1</td>\n",
       "      <td>0</td>\n",
       "      <td>N</td>\n",
       "      <td>5000</td>\n",
       "      <td>0</td>\n",
       "    </tr>\n",
       "    <tr>\n",
       "      <th>3</th>\n",
       "      <td>10553066</td>\n",
       "      <td>SOUTHSIDE ATHLETIC ASSOCIATION</td>\n",
       "      <td>T3</td>\n",
       "      <td>CompanySponsored</td>\n",
       "      <td>C2000</td>\n",
       "      <td>Preservation</td>\n",
       "      <td>Trust</td>\n",
       "      <td>1</td>\n",
       "      <td>10000-24999</td>\n",
       "      <td>N</td>\n",
       "      <td>6692</td>\n",
       "      <td>1</td>\n",
       "    </tr>\n",
       "    <tr>\n",
       "      <th>4</th>\n",
       "      <td>10556103</td>\n",
       "      <td>GENETIC RESEARCH INSTITUTE OF THE DESERT</td>\n",
       "      <td>T3</td>\n",
       "      <td>Independent</td>\n",
       "      <td>C1000</td>\n",
       "      <td>Heathcare</td>\n",
       "      <td>Trust</td>\n",
       "      <td>1</td>\n",
       "      <td>100000-499999</td>\n",
       "      <td>N</td>\n",
       "      <td>142590</td>\n",
       "      <td>1</td>\n",
       "    </tr>\n",
       "  </tbody>\n",
       "</table>\n",
       "</div>"
      ],
      "text/plain": [
       "        EIN                                      NAME APPLICATION_TYPE  \\\n",
       "0  10520599              BLUE KNIGHTS MOTORCYCLE CLUB              T10   \n",
       "1  10531628    AMERICAN CHESAPEAKE CLUB CHARITABLE TR               T3   \n",
       "2  10547893        ST CLOUD PROFESSIONAL FIREFIGHTERS               T5   \n",
       "3  10553066            SOUTHSIDE ATHLETIC ASSOCIATION               T3   \n",
       "4  10556103  GENETIC RESEARCH INSTITUTE OF THE DESERT               T3   \n",
       "\n",
       "        AFFILIATION CLASSIFICATION      USE_CASE  ORGANIZATION  STATUS  \\\n",
       "0       Independent          C1000    ProductDev   Association       1   \n",
       "1       Independent          C2000  Preservation  Co-operative       1   \n",
       "2  CompanySponsored          C3000    ProductDev   Association       1   \n",
       "3  CompanySponsored          C2000  Preservation         Trust       1   \n",
       "4       Independent          C1000     Heathcare         Trust       1   \n",
       "\n",
       "      INCOME_AMT SPECIAL_CONSIDERATIONS  ASK_AMT  IS_SUCCESSFUL  \n",
       "0              0                      N     5000              1  \n",
       "1         1-9999                      N   108590              1  \n",
       "2              0                      N     5000              0  \n",
       "3    10000-24999                      N     6692              1  \n",
       "4  100000-499999                      N   142590              1  "
      ]
     },
     "execution_count": 1,
     "metadata": {},
     "output_type": "execute_result"
    }
   ],
   "source": [
    "# Import our dependencies\n",
    "from sklearn.model_selection import train_test_split\n",
    "from sklearn.preprocessing import StandardScaler\n",
    "import pandas as pd\n",
    "import tensorflow as tf\n",
    "\n",
    "#  Import and read the charity_data.csv.\n",
    "import pandas as pd\n",
    "application_df = pd.read_csv(\"https://static.bc-edx.com/data/dl-1-2/m21/lms/starter/charity_data.csv\")\n",
    "application_df.head()"
   ]
  },
  {
   "cell_type": "code",
   "execution_count": 2,
   "metadata": {},
   "outputs": [],
   "source": [
    "# Drop the non-beneficial ID columns, 'EIN' and 'NAME'.\n",
    "application_df = application_df.drop(columns=['EIN', 'NAME'])"
   ]
  },
  {
   "cell_type": "code",
   "execution_count": 3,
   "metadata": {},
   "outputs": [
    {
     "data": {
      "text/plain": [
       "APPLICATION_TYPE            17\n",
       "AFFILIATION                  6\n",
       "CLASSIFICATION              71\n",
       "USE_CASE                     5\n",
       "ORGANIZATION                 4\n",
       "STATUS                       2\n",
       "INCOME_AMT                   9\n",
       "SPECIAL_CONSIDERATIONS       2\n",
       "ASK_AMT                   8747\n",
       "IS_SUCCESSFUL                2\n",
       "dtype: int64"
      ]
     },
     "execution_count": 3,
     "metadata": {},
     "output_type": "execute_result"
    }
   ],
   "source": [
    "# Determine the number of unique values in each column.\n",
    "application_df.nunique()"
   ]
  },
  {
   "cell_type": "code",
   "execution_count": 4,
   "metadata": {},
   "outputs": [],
   "source": [
    "# Look at APPLICATION_TYPE value counts to identify and replace with \"Other\"\n",
    "application_types = application_df['APPLICATION_TYPE'].value_counts()\n",
    "application_types_to_replace = list(application_types[application_types < 100].index)\n",
    "\n",
    "for app in application_types_to_replace:\n",
    "    application_df['APPLICATION_TYPE'] = application_df['APPLICATION_TYPE'].replace(app, \"Other\")"
   ]
  },
  {
   "cell_type": "code",
   "execution_count": null,
   "metadata": {},
   "outputs": [
    {
     "name": "stdout",
     "output_type": "stream",
     "text": [
      "APPLICATION_TYPE\n",
      "T3       27037\n",
      "T4        1542\n",
      "T6        1216\n",
      "T5        1173\n",
      "T19       1065\n",
      "T8         737\n",
      "T7         725\n",
      "T10        528\n",
      "T9         156\n",
      "Other      120\n",
      "Name: count, dtype: int64\n"
     ]
    }
   ],
   "source": [
    "# Choose a cutoff value and create a list of application types to be replaced\n",
    "# Define application types to replace with 'Other'\n",
    "application_types_to_replace = ['T14', 'T25', 'T29', 'T15', 'T17']\n",
    "\n",
    "# Replace selected application types with 'Other'\n",
    "application_df['APPLICATION_TYPE'] = application_df['APPLICATION_TYPE'].replace(application_types_to_replace, \"Other\")\n",
    "\n",
    "# Verify replacement was successful by printing value counts\n",
    "print(application_df['APPLICATION_TYPE'].value_counts())"
   ]
  },
  {
   "cell_type": "code",
   "execution_count": 6,
   "metadata": {},
   "outputs": [
    {
     "name": "stdout",
     "output_type": "stream",
     "text": [
      "CLASSIFICATION\n",
      "C1000    17326\n",
      "C2000     6074\n",
      "C1200     4837\n",
      "C3000     1918\n",
      "C2100     1883\n",
      "         ...  \n",
      "C4120        1\n",
      "C8210        1\n",
      "C2561        1\n",
      "C4500        1\n",
      "C2150        1\n",
      "Name: count, Length: 71, dtype: int64\n"
     ]
    }
   ],
   "source": [
    "# Look at CLASSIFICATION value counts to identify and replace with \"Other\"\n",
    "# Get the value counts for the 'CLASSIFICATION' column\n",
    "classification_counts = application_df['CLASSIFICATION'].value_counts()\n",
    "\n",
    "# Display value counts\n",
    "print(classification_counts)"
   ]
  },
  {
   "cell_type": "code",
   "execution_count": 7,
   "metadata": {},
   "outputs": [
    {
     "name": "stdout",
     "output_type": "stream",
     "text": [
      "CLASSIFICATION\n",
      "C1000    17326\n",
      "C2000     6074\n",
      "C1200     4837\n",
      "C3000     1918\n",
      "C2100     1883\n",
      "C7000      777\n",
      "C1700      287\n",
      "C4000      194\n",
      "C5000      116\n",
      "C1270      114\n",
      "C2700      104\n",
      "C2800       95\n",
      "C7100       75\n",
      "C1300       58\n",
      "C1280       50\n",
      "C1230       36\n",
      "C1400       34\n",
      "C7200       32\n",
      "C2300       32\n",
      "C1240       30\n",
      "C8000       20\n",
      "C7120       18\n",
      "C1500       16\n",
      "C1800       15\n",
      "C6000       15\n",
      "C1250       14\n",
      "C8200       11\n",
      "C1238       10\n",
      "C1278       10\n",
      "C1235        9\n",
      "C1237        9\n",
      "C7210        7\n",
      "C2400        6\n",
      "C1720        6\n",
      "C4100        6\n",
      "C1257        5\n",
      "C1600        5\n",
      "C1260        3\n",
      "C2710        3\n",
      "C0           3\n",
      "C3200        2\n",
      "C1234        2\n",
      "C1246        2\n",
      "C1267        2\n",
      "C1256        2\n",
      "Name: count, dtype: int64\n"
     ]
    }
   ],
   "source": [
    "# You may find it helpful to look at CLASSIFICATION value counts >1\n",
    "classification_counts_gt_1 = classification_counts[classification_counts > 1]\n",
    "\n",
    "# Display filtered value counts\n",
    "print(classification_counts_gt_1)"
   ]
  },
  {
   "cell_type": "code",
   "execution_count": null,
   "metadata": {},
   "outputs": [
    {
     "name": "stdout",
     "output_type": "stream",
     "text": [
      "CLASSIFICATION\n",
      "C1000    17326\n",
      "C2000     6074\n",
      "C1200     4837\n",
      "C3000     1918\n",
      "C2100     1883\n",
      "C7000      777\n",
      "Other      669\n",
      "C1700      287\n",
      "C4000      194\n",
      "C5000      116\n",
      "C1270      114\n",
      "C2700      104\n",
      "Name: count, dtype: int64\n"
     ]
    }
   ],
   "source": [
    "# Choose a cutoff value and create a list of classifications to be replaced\n",
    "# use the variable name `classifications_to_replace`\n",
    "cutoff_value = 100\n",
    "classifications_to_replace = list(classification_counts[classification_counts < cutoff_value].index)\n",
    "\n",
    "# Replace the selected classifications with 'Other'\n",
    "application_df['CLASSIFICATION'] = application_df['CLASSIFICATION'].replace(classifications_to_replace, \"Other\")\n",
    "\n",
    "# Verify the replacement was successful by printing the value counts\n",
    "print(application_df['CLASSIFICATION'].value_counts())"
   ]
  },
  {
   "cell_type": "code",
   "execution_count": 9,
   "metadata": {},
   "outputs": [
    {
     "name": "stdout",
     "output_type": "stream",
     "text": [
      "   STATUS  ASK_AMT  IS_SUCCESSFUL  APPLICATION_TYPE_T10  APPLICATION_TYPE_T19  \\\n",
      "0       1     5000              1                  True                 False   \n",
      "1       1   108590              1                 False                 False   \n",
      "2       1     5000              0                 False                 False   \n",
      "3       1     6692              1                 False                 False   \n",
      "4       1   142590              1                 False                 False   \n",
      "\n",
      "   APPLICATION_TYPE_T3  APPLICATION_TYPE_T4  APPLICATION_TYPE_T5  \\\n",
      "0                False                False                False   \n",
      "1                 True                False                False   \n",
      "2                False                False                 True   \n",
      "3                 True                False                False   \n",
      "4                 True                False                False   \n",
      "\n",
      "   APPLICATION_TYPE_T6  APPLICATION_TYPE_T7  ...  ORGANIZATION_Trust  \\\n",
      "0                False                False  ...               False   \n",
      "1                False                False  ...               False   \n",
      "2                False                False  ...               False   \n",
      "3                False                False  ...                True   \n",
      "4                False                False  ...                True   \n",
      "\n",
      "   INCOME_AMT_1-9999  INCOME_AMT_10000-24999  INCOME_AMT_100000-499999  \\\n",
      "0              False                   False                     False   \n",
      "1               True                   False                     False   \n",
      "2              False                   False                     False   \n",
      "3              False                    True                     False   \n",
      "4              False                   False                      True   \n",
      "\n",
      "   INCOME_AMT_10M-50M  INCOME_AMT_1M-5M  INCOME_AMT_25000-99999  \\\n",
      "0               False             False                   False   \n",
      "1               False             False                   False   \n",
      "2               False             False                   False   \n",
      "3               False             False                   False   \n",
      "4               False             False                   False   \n",
      "\n",
      "   INCOME_AMT_50M+  INCOME_AMT_5M-10M  SPECIAL_CONSIDERATIONS_Y  \n",
      "0            False              False                     False  \n",
      "1            False              False                     False  \n",
      "2            False              False                     False  \n",
      "3            False              False                     False  \n",
      "4            False              False                     False  \n",
      "\n",
      "[5 rows x 44 columns]\n"
     ]
    }
   ],
   "source": [
    "# Convert categorical data to numeric using pd.get_dummies()\n",
    "application_df_dummies = pd.get_dummies(application_df, drop_first=True)\n",
    "\n",
    "# Display the transformed DataFrame\n",
    "print(application_df_dummies.head())"
   ]
  },
  {
   "cell_type": "code",
   "execution_count": 10,
   "metadata": {},
   "outputs": [
    {
     "name": "stdout",
     "output_type": "stream",
     "text": [
      "Training Features Shape: (27439, 43)\n",
      "Testing Features Shape: (6860, 43)\n",
      "Training Target Shape: (27439,)\n",
      "Testing Target Shape: (6860,)\n"
     ]
    }
   ],
   "source": [
    "# Split our preprocessed data into features (X) and target (y) arrays\n",
    "X = application_df_dummies.drop(columns='IS_SUCCESSFUL')\n",
    "y = application_df_dummies['IS_SUCCESSFUL']\n",
    "\n",
    "# Split the data into training and testing datasets (80% train, 20% test)\n",
    "X_train, X_test, y_train, y_test = train_test_split(X, y, test_size=0.2, random_state=42)\n",
    "\n",
    "# Confirm the split by printing the shapes of the resulting datasets\n",
    "print(f\"Training Features Shape: {X_train.shape}\")\n",
    "print(f\"Testing Features Shape: {X_test.shape}\")\n",
    "print(f\"Training Target Shape: {y_train.shape}\")\n",
    "print(f\"Testing Target Shape: {y_test.shape}\")"
   ]
  },
  {
   "cell_type": "code",
   "execution_count": 11,
   "metadata": {},
   "outputs": [],
   "source": [
    "# Create a StandardScaler instances\n",
    "scaler = StandardScaler()\n",
    "\n",
    "# Fit the StandardScaler\n",
    "X_scaler = scaler.fit(X_train)\n",
    "\n",
    "# Scale the data\n",
    "X_train_scaled = X_scaler.transform(X_train)\n",
    "X_test_scaled = X_scaler.transform(X_test)"
   ]
  },
  {
   "cell_type": "markdown",
   "metadata": {},
   "source": [
    "## Compile, Train and Evaluate the Model"
   ]
  },
  {
   "cell_type": "markdown",
   "metadata": {},
   "source": [
    "### 1st Model Attempt"
   ]
  },
  {
   "cell_type": "code",
   "execution_count": 13,
   "metadata": {},
   "outputs": [
    {
     "data": {
      "text/html": [
       "<pre style=\"white-space:pre;overflow-x:auto;line-height:normal;font-family:Menlo,'DejaVu Sans Mono',consolas,'Courier New',monospace\"><span style=\"font-weight: bold\">Model: \"sequential_1\"</span>\n",
       "</pre>\n"
      ],
      "text/plain": [
       "\u001b[1mModel: \"sequential_1\"\u001b[0m\n"
      ]
     },
     "metadata": {},
     "output_type": "display_data"
    },
    {
     "data": {
      "text/html": [
       "<pre style=\"white-space:pre;overflow-x:auto;line-height:normal;font-family:Menlo,'DejaVu Sans Mono',consolas,'Courier New',monospace\">┏━━━━━━━━━━━━━━━━━━━━━━━━━━━━━━━━━┳━━━━━━━━━━━━━━━━━━━━━━━━┳━━━━━━━━━━━━━━━┓\n",
       "┃<span style=\"font-weight: bold\"> Layer (type)                    </span>┃<span style=\"font-weight: bold\"> Output Shape           </span>┃<span style=\"font-weight: bold\">       Param # </span>┃\n",
       "┡━━━━━━━━━━━━━━━━━━━━━━━━━━━━━━━━━╇━━━━━━━━━━━━━━━━━━━━━━━━╇━━━━━━━━━━━━━━━┩\n",
       "│ dense_3 (<span style=\"color: #0087ff; text-decoration-color: #0087ff\">Dense</span>)                 │ (<span style=\"color: #00d7ff; text-decoration-color: #00d7ff\">None</span>, <span style=\"color: #00af00; text-decoration-color: #00af00\">80</span>)             │         <span style=\"color: #00af00; text-decoration-color: #00af00\">3,520</span> │\n",
       "├─────────────────────────────────┼────────────────────────┼───────────────┤\n",
       "│ dense_4 (<span style=\"color: #0087ff; text-decoration-color: #0087ff\">Dense</span>)                 │ (<span style=\"color: #00d7ff; text-decoration-color: #00d7ff\">None</span>, <span style=\"color: #00af00; text-decoration-color: #00af00\">30</span>)             │         <span style=\"color: #00af00; text-decoration-color: #00af00\">2,430</span> │\n",
       "├─────────────────────────────────┼────────────────────────┼───────────────┤\n",
       "│ dense_5 (<span style=\"color: #0087ff; text-decoration-color: #0087ff\">Dense</span>)                 │ (<span style=\"color: #00d7ff; text-decoration-color: #00d7ff\">None</span>, <span style=\"color: #00af00; text-decoration-color: #00af00\">1</span>)              │            <span style=\"color: #00af00; text-decoration-color: #00af00\">31</span> │\n",
       "└─────────────────────────────────┴────────────────────────┴───────────────┘\n",
       "</pre>\n"
      ],
      "text/plain": [
       "┏━━━━━━━━━━━━━━━━━━━━━━━━━━━━━━━━━┳━━━━━━━━━━━━━━━━━━━━━━━━┳━━━━━━━━━━━━━━━┓\n",
       "┃\u001b[1m \u001b[0m\u001b[1mLayer (type)                   \u001b[0m\u001b[1m \u001b[0m┃\u001b[1m \u001b[0m\u001b[1mOutput Shape          \u001b[0m\u001b[1m \u001b[0m┃\u001b[1m \u001b[0m\u001b[1m      Param #\u001b[0m\u001b[1m \u001b[0m┃\n",
       "┡━━━━━━━━━━━━━━━━━━━━━━━━━━━━━━━━━╇━━━━━━━━━━━━━━━━━━━━━━━━╇━━━━━━━━━━━━━━━┩\n",
       "│ dense_3 (\u001b[38;5;33mDense\u001b[0m)                 │ (\u001b[38;5;45mNone\u001b[0m, \u001b[38;5;34m80\u001b[0m)             │         \u001b[38;5;34m3,520\u001b[0m │\n",
       "├─────────────────────────────────┼────────────────────────┼───────────────┤\n",
       "│ dense_4 (\u001b[38;5;33mDense\u001b[0m)                 │ (\u001b[38;5;45mNone\u001b[0m, \u001b[38;5;34m30\u001b[0m)             │         \u001b[38;5;34m2,430\u001b[0m │\n",
       "├─────────────────────────────────┼────────────────────────┼───────────────┤\n",
       "│ dense_5 (\u001b[38;5;33mDense\u001b[0m)                 │ (\u001b[38;5;45mNone\u001b[0m, \u001b[38;5;34m1\u001b[0m)              │            \u001b[38;5;34m31\u001b[0m │\n",
       "└─────────────────────────────────┴────────────────────────┴───────────────┘\n"
      ]
     },
     "metadata": {},
     "output_type": "display_data"
    },
    {
     "data": {
      "text/html": [
       "<pre style=\"white-space:pre;overflow-x:auto;line-height:normal;font-family:Menlo,'DejaVu Sans Mono',consolas,'Courier New',monospace\"><span style=\"font-weight: bold\"> Total params: </span><span style=\"color: #00af00; text-decoration-color: #00af00\">5,981</span> (23.36 KB)\n",
       "</pre>\n"
      ],
      "text/plain": [
       "\u001b[1m Total params: \u001b[0m\u001b[38;5;34m5,981\u001b[0m (23.36 KB)\n"
      ]
     },
     "metadata": {},
     "output_type": "display_data"
    },
    {
     "data": {
      "text/html": [
       "<pre style=\"white-space:pre;overflow-x:auto;line-height:normal;font-family:Menlo,'DejaVu Sans Mono',consolas,'Courier New',monospace\"><span style=\"font-weight: bold\"> Trainable params: </span><span style=\"color: #00af00; text-decoration-color: #00af00\">5,981</span> (23.36 KB)\n",
       "</pre>\n"
      ],
      "text/plain": [
       "\u001b[1m Trainable params: \u001b[0m\u001b[38;5;34m5,981\u001b[0m (23.36 KB)\n"
      ]
     },
     "metadata": {},
     "output_type": "display_data"
    },
    {
     "data": {
      "text/html": [
       "<pre style=\"white-space:pre;overflow-x:auto;line-height:normal;font-family:Menlo,'DejaVu Sans Mono',consolas,'Courier New',monospace\"><span style=\"font-weight: bold\"> Non-trainable params: </span><span style=\"color: #00af00; text-decoration-color: #00af00\">0</span> (0.00 B)\n",
       "</pre>\n"
      ],
      "text/plain": [
       "\u001b[1m Non-trainable params: \u001b[0m\u001b[38;5;34m0\u001b[0m (0.00 B)\n"
      ]
     },
     "metadata": {},
     "output_type": "display_data"
    }
   ],
   "source": [
    "# Define the model\n",
    "nn = tf.keras.models.Sequential()\n",
    "\n",
    "# First hidden layer\n",
    "nn.add(tf.keras.layers.Dense(units=80, activation='relu', input_shape=(X_train_scaled.shape[1],)))\n",
    "\n",
    "# Second hidden layer\n",
    "nn.add(tf.keras.layers.Dense(units=30, activation='relu'))\n",
    "\n",
    "# Output layer with sigmoid activation for binary classification\n",
    "nn.add(tf.keras.layers.Dense(units=1, activation='sigmoid'))\n",
    "\n",
    "# Check the structure of the model\n",
    "nn.summary()"
   ]
  },
  {
   "cell_type": "code",
   "execution_count": 14,
   "metadata": {},
   "outputs": [],
   "source": [
    "# Compile the model\n",
    "nn.compile(optimizer='adam', \n",
    "           loss='binary_crossentropy', \n",
    "           metrics=['accuracy'])"
   ]
  },
  {
   "cell_type": "code",
   "execution_count": 15,
   "metadata": {},
   "outputs": [
    {
     "name": "stdout",
     "output_type": "stream",
     "text": [
      "Epoch 1/50\n",
      "858/858 - 1s - 1ms/step - accuracy: 0.7196 - loss: 0.5687\n",
      "Epoch 2/50\n",
      "858/858 - 0s - 510us/step - accuracy: 0.7285 - loss: 0.5548\n",
      "Epoch 3/50\n",
      "858/858 - 0s - 537us/step - accuracy: 0.7313 - loss: 0.5506\n",
      "Epoch 4/50\n",
      "858/858 - 0s - 569us/step - accuracy: 0.7305 - loss: 0.5492\n",
      "Epoch 5/50\n",
      "858/858 - 0s - 502us/step - accuracy: 0.7324 - loss: 0.5480\n",
      "Epoch 6/50\n",
      "858/858 - 0s - 512us/step - accuracy: 0.7317 - loss: 0.5470\n",
      "Epoch 7/50\n",
      "858/858 - 0s - 504us/step - accuracy: 0.7321 - loss: 0.5457\n",
      "Epoch 8/50\n",
      "858/858 - 0s - 505us/step - accuracy: 0.7342 - loss: 0.5453\n",
      "Epoch 9/50\n",
      "858/858 - 0s - 497us/step - accuracy: 0.7334 - loss: 0.5439\n",
      "Epoch 10/50\n",
      "858/858 - 0s - 502us/step - accuracy: 0.7346 - loss: 0.5440\n",
      "Epoch 11/50\n",
      "858/858 - 0s - 498us/step - accuracy: 0.7347 - loss: 0.5434\n",
      "Epoch 12/50\n",
      "858/858 - 0s - 494us/step - accuracy: 0.7330 - loss: 0.5429\n",
      "Epoch 13/50\n",
      "858/858 - 0s - 499us/step - accuracy: 0.7359 - loss: 0.5421\n",
      "Epoch 14/50\n",
      "858/858 - 0s - 497us/step - accuracy: 0.7358 - loss: 0.5419\n",
      "Epoch 15/50\n",
      "858/858 - 0s - 500us/step - accuracy: 0.7355 - loss: 0.5418\n",
      "Epoch 16/50\n",
      "858/858 - 0s - 500us/step - accuracy: 0.7349 - loss: 0.5413\n",
      "Epoch 17/50\n",
      "858/858 - 0s - 504us/step - accuracy: 0.7357 - loss: 0.5409\n",
      "Epoch 18/50\n",
      "858/858 - 0s - 500us/step - accuracy: 0.7362 - loss: 0.5405\n",
      "Epoch 19/50\n",
      "858/858 - 0s - 501us/step - accuracy: 0.7366 - loss: 0.5404\n",
      "Epoch 20/50\n",
      "858/858 - 0s - 500us/step - accuracy: 0.7357 - loss: 0.5405\n",
      "Epoch 21/50\n",
      "858/858 - 0s - 497us/step - accuracy: 0.7367 - loss: 0.5401\n",
      "Epoch 22/50\n",
      "858/858 - 0s - 537us/step - accuracy: 0.7358 - loss: 0.5397\n",
      "Epoch 23/50\n",
      "858/858 - 0s - 502us/step - accuracy: 0.7361 - loss: 0.5395\n",
      "Epoch 24/50\n",
      "858/858 - 0s - 537us/step - accuracy: 0.7376 - loss: 0.5392\n",
      "Epoch 25/50\n",
      "858/858 - 0s - 498us/step - accuracy: 0.7376 - loss: 0.5387\n",
      "Epoch 26/50\n",
      "858/858 - 0s - 504us/step - accuracy: 0.7380 - loss: 0.5387\n",
      "Epoch 27/50\n",
      "858/858 - 0s - 491us/step - accuracy: 0.7363 - loss: 0.5382\n",
      "Epoch 28/50\n",
      "858/858 - 0s - 501us/step - accuracy: 0.7373 - loss: 0.5387\n",
      "Epoch 29/50\n",
      "858/858 - 0s - 493us/step - accuracy: 0.7369 - loss: 0.5383\n",
      "Epoch 30/50\n",
      "858/858 - 0s - 499us/step - accuracy: 0.7363 - loss: 0.5379\n",
      "Epoch 31/50\n",
      "858/858 - 0s - 502us/step - accuracy: 0.7382 - loss: 0.5379\n",
      "Epoch 32/50\n",
      "858/858 - 0s - 493us/step - accuracy: 0.7375 - loss: 0.5378\n",
      "Epoch 33/50\n",
      "858/858 - 0s - 557us/step - accuracy: 0.7391 - loss: 0.5373\n",
      "Epoch 34/50\n",
      "858/858 - 0s - 488us/step - accuracy: 0.7375 - loss: 0.5371\n",
      "Epoch 35/50\n",
      "858/858 - 0s - 491us/step - accuracy: 0.7377 - loss: 0.5371\n",
      "Epoch 36/50\n",
      "858/858 - 0s - 492us/step - accuracy: 0.7373 - loss: 0.5371\n",
      "Epoch 37/50\n",
      "858/858 - 0s - 492us/step - accuracy: 0.7386 - loss: 0.5366\n",
      "Epoch 38/50\n",
      "858/858 - 0s - 495us/step - accuracy: 0.7378 - loss: 0.5369\n",
      "Epoch 39/50\n",
      "858/858 - 0s - 485us/step - accuracy: 0.7381 - loss: 0.5364\n",
      "Epoch 40/50\n",
      "858/858 - 0s - 495us/step - accuracy: 0.7381 - loss: 0.5364\n",
      "Epoch 41/50\n",
      "858/858 - 0s - 499us/step - accuracy: 0.7383 - loss: 0.5363\n",
      "Epoch 42/50\n",
      "858/858 - 0s - 491us/step - accuracy: 0.7395 - loss: 0.5360\n",
      "Epoch 43/50\n",
      "858/858 - 0s - 527us/step - accuracy: 0.7386 - loss: 0.5362\n",
      "Epoch 44/50\n",
      "858/858 - 0s - 492us/step - accuracy: 0.7394 - loss: 0.5357\n",
      "Epoch 45/50\n",
      "858/858 - 0s - 497us/step - accuracy: 0.7382 - loss: 0.5359\n",
      "Epoch 46/50\n",
      "858/858 - 0s - 497us/step - accuracy: 0.7388 - loss: 0.5354\n",
      "Epoch 47/50\n",
      "858/858 - 0s - 494us/step - accuracy: 0.7392 - loss: 0.5355\n",
      "Epoch 48/50\n",
      "858/858 - 0s - 496us/step - accuracy: 0.7386 - loss: 0.5358\n",
      "Epoch 49/50\n",
      "858/858 - 0s - 498us/step - accuracy: 0.7387 - loss: 0.5352\n",
      "Epoch 50/50\n",
      "858/858 - 0s - 500us/step - accuracy: 0.7383 - loss: 0.5356\n"
     ]
    }
   ],
   "source": [
    "# Train the model for 50 epochs\n",
    "fit_model = nn.fit(X_train_scaled, y_train, epochs=50, batch_size=32, verbose=2)"
   ]
  },
  {
   "cell_type": "code",
   "execution_count": 16,
   "metadata": {},
   "outputs": [
    {
     "name": "stdout",
     "output_type": "stream",
     "text": [
      "215/215 - 0s - 787us/step - accuracy: 0.7299 - loss: 0.5575\n",
      "Loss: 0.5574600696563721, Accuracy: 0.7298833727836609\n"
     ]
    }
   ],
   "source": [
    "# Evaluate the model using the test data\n",
    "model_loss, model_accuracy = nn.evaluate(X_test_scaled,y_test,verbose=2)\n",
    "print(f\"Loss: {model_loss}, Accuracy: {model_accuracy}\")"
   ]
  },
  {
   "cell_type": "markdown",
   "metadata": {},
   "source": [
    "### 2nd Model Attempt"
   ]
  },
  {
   "cell_type": "code",
   "execution_count": 17,
   "metadata": {},
   "outputs": [
    {
     "data": {
      "text/html": [
       "<pre style=\"white-space:pre;overflow-x:auto;line-height:normal;font-family:Menlo,'DejaVu Sans Mono',consolas,'Courier New',monospace\"><span style=\"font-weight: bold\">Model: \"sequential_2\"</span>\n",
       "</pre>\n"
      ],
      "text/plain": [
       "\u001b[1mModel: \"sequential_2\"\u001b[0m\n"
      ]
     },
     "metadata": {},
     "output_type": "display_data"
    },
    {
     "data": {
      "text/html": [
       "<pre style=\"white-space:pre;overflow-x:auto;line-height:normal;font-family:Menlo,'DejaVu Sans Mono',consolas,'Courier New',monospace\">┏━━━━━━━━━━━━━━━━━━━━━━━━━━━━━━━━━┳━━━━━━━━━━━━━━━━━━━━━━━━┳━━━━━━━━━━━━━━━┓\n",
       "┃<span style=\"font-weight: bold\"> Layer (type)                    </span>┃<span style=\"font-weight: bold\"> Output Shape           </span>┃<span style=\"font-weight: bold\">       Param # </span>┃\n",
       "┡━━━━━━━━━━━━━━━━━━━━━━━━━━━━━━━━━╇━━━━━━━━━━━━━━━━━━━━━━━━╇━━━━━━━━━━━━━━━┩\n",
       "│ dense_6 (<span style=\"color: #0087ff; text-decoration-color: #0087ff\">Dense</span>)                 │ (<span style=\"color: #00d7ff; text-decoration-color: #00d7ff\">None</span>, <span style=\"color: #00af00; text-decoration-color: #00af00\">80</span>)             │         <span style=\"color: #00af00; text-decoration-color: #00af00\">3,520</span> │\n",
       "├─────────────────────────────────┼────────────────────────┼───────────────┤\n",
       "│ dense_7 (<span style=\"color: #0087ff; text-decoration-color: #0087ff\">Dense</span>)                 │ (<span style=\"color: #00d7ff; text-decoration-color: #00d7ff\">None</span>, <span style=\"color: #00af00; text-decoration-color: #00af00\">50</span>)             │         <span style=\"color: #00af00; text-decoration-color: #00af00\">4,050</span> │\n",
       "├─────────────────────────────────┼────────────────────────┼───────────────┤\n",
       "│ dropout (<span style=\"color: #0087ff; text-decoration-color: #0087ff\">Dropout</span>)               │ (<span style=\"color: #00d7ff; text-decoration-color: #00d7ff\">None</span>, <span style=\"color: #00af00; text-decoration-color: #00af00\">50</span>)             │             <span style=\"color: #00af00; text-decoration-color: #00af00\">0</span> │\n",
       "├─────────────────────────────────┼────────────────────────┼───────────────┤\n",
       "│ dense_8 (<span style=\"color: #0087ff; text-decoration-color: #0087ff\">Dense</span>)                 │ (<span style=\"color: #00d7ff; text-decoration-color: #00d7ff\">None</span>, <span style=\"color: #00af00; text-decoration-color: #00af00\">30</span>)             │         <span style=\"color: #00af00; text-decoration-color: #00af00\">1,530</span> │\n",
       "├─────────────────────────────────┼────────────────────────┼───────────────┤\n",
       "│ dense_9 (<span style=\"color: #0087ff; text-decoration-color: #0087ff\">Dense</span>)                 │ (<span style=\"color: #00d7ff; text-decoration-color: #00d7ff\">None</span>, <span style=\"color: #00af00; text-decoration-color: #00af00\">1</span>)              │            <span style=\"color: #00af00; text-decoration-color: #00af00\">31</span> │\n",
       "└─────────────────────────────────┴────────────────────────┴───────────────┘\n",
       "</pre>\n"
      ],
      "text/plain": [
       "┏━━━━━━━━━━━━━━━━━━━━━━━━━━━━━━━━━┳━━━━━━━━━━━━━━━━━━━━━━━━┳━━━━━━━━━━━━━━━┓\n",
       "┃\u001b[1m \u001b[0m\u001b[1mLayer (type)                   \u001b[0m\u001b[1m \u001b[0m┃\u001b[1m \u001b[0m\u001b[1mOutput Shape          \u001b[0m\u001b[1m \u001b[0m┃\u001b[1m \u001b[0m\u001b[1m      Param #\u001b[0m\u001b[1m \u001b[0m┃\n",
       "┡━━━━━━━━━━━━━━━━━━━━━━━━━━━━━━━━━╇━━━━━━━━━━━━━━━━━━━━━━━━╇━━━━━━━━━━━━━━━┩\n",
       "│ dense_6 (\u001b[38;5;33mDense\u001b[0m)                 │ (\u001b[38;5;45mNone\u001b[0m, \u001b[38;5;34m80\u001b[0m)             │         \u001b[38;5;34m3,520\u001b[0m │\n",
       "├─────────────────────────────────┼────────────────────────┼───────────────┤\n",
       "│ dense_7 (\u001b[38;5;33mDense\u001b[0m)                 │ (\u001b[38;5;45mNone\u001b[0m, \u001b[38;5;34m50\u001b[0m)             │         \u001b[38;5;34m4,050\u001b[0m │\n",
       "├─────────────────────────────────┼────────────────────────┼───────────────┤\n",
       "│ dropout (\u001b[38;5;33mDropout\u001b[0m)               │ (\u001b[38;5;45mNone\u001b[0m, \u001b[38;5;34m50\u001b[0m)             │             \u001b[38;5;34m0\u001b[0m │\n",
       "├─────────────────────────────────┼────────────────────────┼───────────────┤\n",
       "│ dense_8 (\u001b[38;5;33mDense\u001b[0m)                 │ (\u001b[38;5;45mNone\u001b[0m, \u001b[38;5;34m30\u001b[0m)             │         \u001b[38;5;34m1,530\u001b[0m │\n",
       "├─────────────────────────────────┼────────────────────────┼───────────────┤\n",
       "│ dense_9 (\u001b[38;5;33mDense\u001b[0m)                 │ (\u001b[38;5;45mNone\u001b[0m, \u001b[38;5;34m1\u001b[0m)              │            \u001b[38;5;34m31\u001b[0m │\n",
       "└─────────────────────────────────┴────────────────────────┴───────────────┘\n"
      ]
     },
     "metadata": {},
     "output_type": "display_data"
    },
    {
     "data": {
      "text/html": [
       "<pre style=\"white-space:pre;overflow-x:auto;line-height:normal;font-family:Menlo,'DejaVu Sans Mono',consolas,'Courier New',monospace\"><span style=\"font-weight: bold\"> Total params: </span><span style=\"color: #00af00; text-decoration-color: #00af00\">9,131</span> (35.67 KB)\n",
       "</pre>\n"
      ],
      "text/plain": [
       "\u001b[1m Total params: \u001b[0m\u001b[38;5;34m9,131\u001b[0m (35.67 KB)\n"
      ]
     },
     "metadata": {},
     "output_type": "display_data"
    },
    {
     "data": {
      "text/html": [
       "<pre style=\"white-space:pre;overflow-x:auto;line-height:normal;font-family:Menlo,'DejaVu Sans Mono',consolas,'Courier New',monospace\"><span style=\"font-weight: bold\"> Trainable params: </span><span style=\"color: #00af00; text-decoration-color: #00af00\">9,131</span> (35.67 KB)\n",
       "</pre>\n"
      ],
      "text/plain": [
       "\u001b[1m Trainable params: \u001b[0m\u001b[38;5;34m9,131\u001b[0m (35.67 KB)\n"
      ]
     },
     "metadata": {},
     "output_type": "display_data"
    },
    {
     "data": {
      "text/html": [
       "<pre style=\"white-space:pre;overflow-x:auto;line-height:normal;font-family:Menlo,'DejaVu Sans Mono',consolas,'Courier New',monospace\"><span style=\"font-weight: bold\"> Non-trainable params: </span><span style=\"color: #00af00; text-decoration-color: #00af00\">0</span> (0.00 B)\n",
       "</pre>\n"
      ],
      "text/plain": [
       "\u001b[1m Non-trainable params: \u001b[0m\u001b[38;5;34m0\u001b[0m (0.00 B)\n"
      ]
     },
     "metadata": {},
     "output_type": "display_data"
    }
   ],
   "source": [
    "# Define the optimized model\n",
    "nn_opt = tf.keras.models.Sequential()\n",
    "\n",
    "# First hidden layer with 80 neurons\n",
    "nn_opt.add(tf.keras.layers.Dense(units=80, activation='relu', input_shape=(X_train_scaled.shape[1],)))\n",
    "\n",
    "# Second hidden layer with 50 neurons and Dropout layer to prevent overfitting\n",
    "nn_opt.add(tf.keras.layers.Dense(units=50, activation='relu'))\n",
    "nn_opt.add(tf.keras.layers.Dropout(0.2))\n",
    "\n",
    "# Third hidden layer with 30 neurons\n",
    "nn_opt.add(tf.keras.layers.Dense(units=30, activation='relu'))\n",
    "\n",
    "# Output layer with sigmoid activation for binary classification\n",
    "nn_opt.add(tf.keras.layers.Dense(units=1, activation='sigmoid'))\n",
    "\n",
    "# Compile the optimized model with Adam optimizer and a lower learning rate\n",
    "optimizer = tf.keras.optimizers.Adam(learning_rate=0.001)\n",
    "nn_opt.compile(optimizer=optimizer, loss='binary_crossentropy', metrics=['accuracy'])\n",
    "\n",
    "# Check the structure of the optimized model\n",
    "nn_opt.summary()"
   ]
  },
  {
   "cell_type": "code",
   "execution_count": 18,
   "metadata": {},
   "outputs": [
    {
     "name": "stdout",
     "output_type": "stream",
     "text": [
      "Epoch 1/100\n",
      "429/429 - 1s - 2ms/step - accuracy: 0.7110 - loss: 0.5834\n",
      "Epoch 2/100\n",
      "429/429 - 0s - 639us/step - accuracy: 0.7285 - loss: 0.5590\n",
      "Epoch 3/100\n",
      "429/429 - 0s - 626us/step - accuracy: 0.7282 - loss: 0.5559\n",
      "Epoch 4/100\n",
      "429/429 - 0s - 628us/step - accuracy: 0.7304 - loss: 0.5529\n",
      "Epoch 5/100\n",
      "429/429 - 0s - 629us/step - accuracy: 0.7285 - loss: 0.5517\n",
      "Epoch 6/100\n",
      "429/429 - 0s - 615us/step - accuracy: 0.7302 - loss: 0.5499\n",
      "Epoch 7/100\n",
      "429/429 - 0s - 721us/step - accuracy: 0.7325 - loss: 0.5488\n",
      "Epoch 8/100\n",
      "429/429 - 0s - 612us/step - accuracy: 0.7332 - loss: 0.5481\n",
      "Epoch 9/100\n",
      "429/429 - 0s - 595us/step - accuracy: 0.7336 - loss: 0.5469\n",
      "Epoch 10/100\n",
      "429/429 - 0s - 599us/step - accuracy: 0.7325 - loss: 0.5458\n",
      "Epoch 11/100\n",
      "429/429 - 0s - 604us/step - accuracy: 0.7329 - loss: 0.5460\n",
      "Epoch 12/100\n",
      "429/429 - 0s - 610us/step - accuracy: 0.7328 - loss: 0.5452\n",
      "Epoch 13/100\n",
      "429/429 - 0s - 608us/step - accuracy: 0.7337 - loss: 0.5445\n",
      "Epoch 14/100\n",
      "429/429 - 0s - 599us/step - accuracy: 0.7348 - loss: 0.5433\n",
      "Epoch 15/100\n",
      "429/429 - 0s - 596us/step - accuracy: 0.7362 - loss: 0.5444\n",
      "Epoch 16/100\n",
      "429/429 - 0s - 597us/step - accuracy: 0.7341 - loss: 0.5429\n",
      "Epoch 17/100\n",
      "429/429 - 0s - 592us/step - accuracy: 0.7357 - loss: 0.5433\n",
      "Epoch 18/100\n",
      "429/429 - 0s - 594us/step - accuracy: 0.7345 - loss: 0.5432\n",
      "Epoch 19/100\n",
      "429/429 - 0s - 600us/step - accuracy: 0.7343 - loss: 0.5435\n",
      "Epoch 20/100\n",
      "429/429 - 0s - 602us/step - accuracy: 0.7352 - loss: 0.5421\n",
      "Epoch 21/100\n",
      "429/429 - 0s - 583us/step - accuracy: 0.7355 - loss: 0.5420\n",
      "Epoch 22/100\n",
      "429/429 - 0s - 604us/step - accuracy: 0.7356 - loss: 0.5416\n",
      "Epoch 23/100\n",
      "429/429 - 0s - 598us/step - accuracy: 0.7354 - loss: 0.5411\n",
      "Epoch 24/100\n",
      "429/429 - 0s - 598us/step - accuracy: 0.7356 - loss: 0.5407\n",
      "Epoch 25/100\n",
      "429/429 - 0s - 598us/step - accuracy: 0.7358 - loss: 0.5414\n",
      "Epoch 26/100\n",
      "429/429 - 0s - 612us/step - accuracy: 0.7351 - loss: 0.5417\n",
      "Epoch 27/100\n",
      "429/429 - 0s - 658us/step - accuracy: 0.7356 - loss: 0.5408\n",
      "Epoch 28/100\n",
      "429/429 - 0s - 616us/step - accuracy: 0.7359 - loss: 0.5411\n",
      "Epoch 29/100\n",
      "429/429 - 0s - 598us/step - accuracy: 0.7354 - loss: 0.5409\n",
      "Epoch 30/100\n",
      "429/429 - 0s - 609us/step - accuracy: 0.7360 - loss: 0.5407\n",
      "Epoch 31/100\n",
      "429/429 - 0s - 598us/step - accuracy: 0.7365 - loss: 0.5394\n",
      "Epoch 32/100\n",
      "429/429 - 0s - 611us/step - accuracy: 0.7371 - loss: 0.5386\n",
      "Epoch 33/100\n",
      "429/429 - 0s - 603us/step - accuracy: 0.7373 - loss: 0.5396\n",
      "Epoch 34/100\n",
      "429/429 - 0s - 626us/step - accuracy: 0.7365 - loss: 0.5390\n",
      "Epoch 35/100\n",
      "429/429 - 0s - 602us/step - accuracy: 0.7369 - loss: 0.5393\n",
      "Epoch 36/100\n",
      "429/429 - 0s - 736us/step - accuracy: 0.7371 - loss: 0.5389\n",
      "Epoch 37/100\n",
      "429/429 - 0s - 604us/step - accuracy: 0.7378 - loss: 0.5400\n",
      "Epoch 38/100\n",
      "429/429 - 0s - 647us/step - accuracy: 0.7365 - loss: 0.5388\n",
      "Epoch 39/100\n",
      "429/429 - 0s - 607us/step - accuracy: 0.7381 - loss: 0.5389\n",
      "Epoch 40/100\n",
      "429/429 - 0s - 603us/step - accuracy: 0.7376 - loss: 0.5382\n",
      "Epoch 41/100\n",
      "429/429 - 0s - 629us/step - accuracy: 0.7368 - loss: 0.5383\n",
      "Epoch 42/100\n",
      "429/429 - 0s - 709us/step - accuracy: 0.7378 - loss: 0.5378\n",
      "Epoch 43/100\n",
      "429/429 - 0s - 612us/step - accuracy: 0.7364 - loss: 0.5374\n",
      "Epoch 44/100\n",
      "429/429 - 0s - 626us/step - accuracy: 0.7381 - loss: 0.5374\n",
      "Epoch 45/100\n",
      "429/429 - 0s - 604us/step - accuracy: 0.7369 - loss: 0.5379\n",
      "Epoch 46/100\n",
      "429/429 - 0s - 607us/step - accuracy: 0.7371 - loss: 0.5372\n",
      "Epoch 47/100\n",
      "429/429 - 0s - 622us/step - accuracy: 0.7380 - loss: 0.5377\n",
      "Epoch 48/100\n",
      "429/429 - 0s - 618us/step - accuracy: 0.7384 - loss: 0.5367\n",
      "Epoch 49/100\n",
      "429/429 - 0s - 626us/step - accuracy: 0.7379 - loss: 0.5368\n",
      "Epoch 50/100\n",
      "429/429 - 0s - 604us/step - accuracy: 0.7380 - loss: 0.5362\n",
      "Epoch 51/100\n",
      "429/429 - 0s - 796us/step - accuracy: 0.7375 - loss: 0.5367\n",
      "Epoch 52/100\n",
      "429/429 - 0s - 642us/step - accuracy: 0.7373 - loss: 0.5370\n",
      "Epoch 53/100\n",
      "429/429 - 0s - 610us/step - accuracy: 0.7381 - loss: 0.5359\n",
      "Epoch 54/100\n",
      "429/429 - 0s - 617us/step - accuracy: 0.7383 - loss: 0.5366\n",
      "Epoch 55/100\n",
      "429/429 - 0s - 613us/step - accuracy: 0.7385 - loss: 0.5364\n",
      "Epoch 56/100\n",
      "429/429 - 0s - 629us/step - accuracy: 0.7378 - loss: 0.5364\n",
      "Epoch 57/100\n",
      "429/429 - 0s - 631us/step - accuracy: 0.7391 - loss: 0.5362\n",
      "Epoch 58/100\n",
      "429/429 - 0s - 617us/step - accuracy: 0.7380 - loss: 0.5363\n",
      "Epoch 59/100\n",
      "429/429 - 0s - 615us/step - accuracy: 0.7391 - loss: 0.5347\n",
      "Epoch 60/100\n",
      "429/429 - 0s - 618us/step - accuracy: 0.7388 - loss: 0.5357\n",
      "Epoch 61/100\n",
      "429/429 - 0s - 636us/step - accuracy: 0.7373 - loss: 0.5361\n",
      "Epoch 62/100\n",
      "429/429 - 0s - 706us/step - accuracy: 0.7385 - loss: 0.5354\n",
      "Epoch 63/100\n",
      "429/429 - 0s - 647us/step - accuracy: 0.7400 - loss: 0.5349\n",
      "Epoch 64/100\n",
      "429/429 - 0s - 604us/step - accuracy: 0.7385 - loss: 0.5357\n",
      "Epoch 65/100\n",
      "429/429 - 0s - 598us/step - accuracy: 0.7377 - loss: 0.5361\n",
      "Epoch 66/100\n",
      "429/429 - 0s - 598us/step - accuracy: 0.7385 - loss: 0.5352\n",
      "Epoch 67/100\n",
      "429/429 - 0s - 597us/step - accuracy: 0.7379 - loss: 0.5354\n",
      "Epoch 68/100\n",
      "429/429 - 0s - 599us/step - accuracy: 0.7385 - loss: 0.5352\n",
      "Epoch 69/100\n",
      "429/429 - 0s - 603us/step - accuracy: 0.7400 - loss: 0.5348\n",
      "Epoch 70/100\n",
      "429/429 - 0s - 602us/step - accuracy: 0.7375 - loss: 0.5352\n",
      "Epoch 71/100\n",
      "429/429 - 0s - 609us/step - accuracy: 0.7386 - loss: 0.5346\n",
      "Epoch 72/100\n",
      "429/429 - 0s - 608us/step - accuracy: 0.7387 - loss: 0.5345\n",
      "Epoch 73/100\n",
      "429/429 - 0s - 601us/step - accuracy: 0.7400 - loss: 0.5342\n",
      "Epoch 74/100\n",
      "429/429 - 0s - 601us/step - accuracy: 0.7401 - loss: 0.5348\n",
      "Epoch 75/100\n",
      "429/429 - 0s - 610us/step - accuracy: 0.7398 - loss: 0.5344\n",
      "Epoch 76/100\n",
      "429/429 - 0s - 603us/step - accuracy: 0.7398 - loss: 0.5343\n",
      "Epoch 77/100\n",
      "429/429 - 0s - 604us/step - accuracy: 0.7388 - loss: 0.5342\n",
      "Epoch 78/100\n",
      "429/429 - 0s - 627us/step - accuracy: 0.7400 - loss: 0.5338\n",
      "Epoch 79/100\n",
      "429/429 - 0s - 611us/step - accuracy: 0.7379 - loss: 0.5346\n",
      "Epoch 80/100\n",
      "429/429 - 0s - 614us/step - accuracy: 0.7392 - loss: 0.5341\n",
      "Epoch 81/100\n",
      "429/429 - 0s - 601us/step - accuracy: 0.7400 - loss: 0.5336\n",
      "Epoch 82/100\n",
      "429/429 - 0s - 600us/step - accuracy: 0.7389 - loss: 0.5343\n",
      "Epoch 83/100\n",
      "429/429 - 0s - 610us/step - accuracy: 0.7390 - loss: 0.5339\n",
      "Epoch 84/100\n",
      "429/429 - 0s - 609us/step - accuracy: 0.7398 - loss: 0.5339\n",
      "Epoch 85/100\n",
      "429/429 - 0s - 607us/step - accuracy: 0.7389 - loss: 0.5339\n",
      "Epoch 86/100\n",
      "429/429 - 0s - 610us/step - accuracy: 0.7399 - loss: 0.5334\n",
      "Epoch 87/100\n",
      "429/429 - 0s - 634us/step - accuracy: 0.7401 - loss: 0.5337\n",
      "Epoch 88/100\n",
      "429/429 - 0s - 614us/step - accuracy: 0.7393 - loss: 0.5335\n",
      "Epoch 89/100\n",
      "429/429 - 0s - 612us/step - accuracy: 0.7397 - loss: 0.5329\n",
      "Epoch 90/100\n",
      "429/429 - 0s - 615us/step - accuracy: 0.7393 - loss: 0.5333\n",
      "Epoch 91/100\n",
      "429/429 - 0s - 610us/step - accuracy: 0.7388 - loss: 0.5337\n",
      "Epoch 92/100\n",
      "429/429 - 0s - 611us/step - accuracy: 0.7389 - loss: 0.5337\n",
      "Epoch 93/100\n",
      "429/429 - 0s - 603us/step - accuracy: 0.7395 - loss: 0.5332\n",
      "Epoch 94/100\n",
      "429/429 - 0s - 612us/step - accuracy: 0.7408 - loss: 0.5328\n",
      "Epoch 95/100\n",
      "429/429 - 0s - 606us/step - accuracy: 0.7384 - loss: 0.5331\n",
      "Epoch 96/100\n",
      "429/429 - 0s - 597us/step - accuracy: 0.7400 - loss: 0.5338\n",
      "Epoch 97/100\n",
      "429/429 - 0s - 602us/step - accuracy: 0.7404 - loss: 0.5325\n",
      "Epoch 98/100\n",
      "429/429 - 0s - 607us/step - accuracy: 0.7399 - loss: 0.5328\n",
      "Epoch 99/100\n",
      "429/429 - 0s - 614us/step - accuracy: 0.7407 - loss: 0.5333\n",
      "Epoch 100/100\n",
      "429/429 - 0s - 605us/step - accuracy: 0.7399 - loss: 0.5333\n"
     ]
    }
   ],
   "source": [
    "# Train the optimized model for 100 epochs with a larger batch size\n",
    "fit_model_opt = nn_opt.fit(X_train_scaled, y_train, epochs=100, batch_size=64, verbose=2)"
   ]
  },
  {
   "cell_type": "code",
   "execution_count": 19,
   "metadata": {},
   "outputs": [
    {
     "name": "stdout",
     "output_type": "stream",
     "text": [
      "215/215 - 0s - 439us/step - accuracy: 0.7299 - loss: 0.5575\n",
      "Loss: 0.5574600696563721, Accuracy: 0.7298833727836609\n"
     ]
    }
   ],
   "source": [
    "# Evaluate the model using the test data\n",
    "model_loss, model_accuracy = nn.evaluate(X_test_scaled,y_test,verbose=2)\n",
    "print(f\"Loss: {model_loss}, Accuracy: {model_accuracy}\")"
   ]
  },
  {
   "cell_type": "code",
   "execution_count": null,
   "metadata": {},
   "outputs": [],
   "source": [
    "from tensorflow.keras.callbacks import EarlyStopping\n",
    "\n",
    "# Define the model\n",
    "nn_third = tf.keras.models.Sequential()\n",
    "\n",
    "# First hidden layer with 100 neurons\n",
    "nn_third.add(tf.keras.layers.Dense(units=100, activation='tanh', input_shape=(X_train_scaled.shape[1],)))\n",
    "\n",
    "# Second hidden layer with 50 neurons\n",
    "nn_third.add(tf.keras.layers.Dense(units=50, activation='relu'))\n",
    "\n",
    "# Dropout to reduce overfitting (30%)\n",
    "nn_third.add(tf.keras.layers.Dropout(0.3))\n",
    "\n",
    "# Third hidden layer with 30 neurons\n",
    "nn_third.add(tf.keras.layers.Dense(units=30, activation='relu'))\n",
    "\n",
    "# Output layer with sigmoid activation for binary classification\n",
    "nn_third.add(tf.keras.layers.Dense(units=1, activation='sigmoid'))\n",
    "\n",
    "# Compile the model with the Adam optimizer\n",
    "nn_third.compile(optimizer='adam', loss='binary_crossentropy', metrics=['accuracy'])\n",
    "\n",
    "# Add EarlyStopping to avoid overfitting and reduce unnecessary training\n",
    "early_stopping = EarlyStopping(monitor='loss', patience=5)"
   ]
  },
  {
   "cell_type": "code",
   "execution_count": 21,
   "metadata": {},
   "outputs": [
    {
     "name": "stdout",
     "output_type": "stream",
     "text": [
      "Epoch 1/150\n",
      "858/858 - 1s - 1ms/step - accuracy: 0.7144 - loss: 0.5759\n",
      "Epoch 2/150\n",
      "858/858 - 1s - 600us/step - accuracy: 0.7254 - loss: 0.5611\n",
      "Epoch 3/150\n",
      "858/858 - 0s - 579us/step - accuracy: 0.7292 - loss: 0.5565\n",
      "Epoch 4/150\n",
      "858/858 - 1s - 601us/step - accuracy: 0.7296 - loss: 0.5540\n",
      "Epoch 5/150\n",
      "858/858 - 1s - 617us/step - accuracy: 0.7297 - loss: 0.5536\n",
      "Epoch 6/150\n",
      "858/858 - 1s - 641us/step - accuracy: 0.7307 - loss: 0.5529\n",
      "Epoch 7/150\n",
      "858/858 - 0s - 575us/step - accuracy: 0.7313 - loss: 0.5523\n",
      "Epoch 8/150\n",
      "858/858 - 1s - 585us/step - accuracy: 0.7326 - loss: 0.5500\n",
      "Epoch 9/150\n",
      "858/858 - 0s - 575us/step - accuracy: 0.7322 - loss: 0.5497\n",
      "Epoch 10/150\n",
      "858/858 - 0s - 579us/step - accuracy: 0.7326 - loss: 0.5499\n",
      "Epoch 11/150\n",
      "858/858 - 1s - 586us/step - accuracy: 0.7322 - loss: 0.5486\n",
      "Epoch 12/150\n",
      "858/858 - 0s - 579us/step - accuracy: 0.7337 - loss: 0.5493\n",
      "Epoch 13/150\n",
      "858/858 - 1s - 585us/step - accuracy: 0.7312 - loss: 0.5482\n",
      "Epoch 14/150\n",
      "858/858 - 0s - 579us/step - accuracy: 0.7340 - loss: 0.5464\n",
      "Epoch 15/150\n",
      "858/858 - 0s - 576us/step - accuracy: 0.7345 - loss: 0.5466\n",
      "Epoch 16/150\n",
      "858/858 - 0s - 567us/step - accuracy: 0.7342 - loss: 0.5458\n",
      "Epoch 17/150\n",
      "858/858 - 0s - 575us/step - accuracy: 0.7338 - loss: 0.5451\n",
      "Epoch 18/150\n",
      "858/858 - 1s - 588us/step - accuracy: 0.7330 - loss: 0.5447\n",
      "Epoch 19/150\n",
      "858/858 - 1s - 610us/step - accuracy: 0.7334 - loss: 0.5456\n",
      "Epoch 20/150\n",
      "858/858 - 1s - 584us/step - accuracy: 0.7325 - loss: 0.5455\n",
      "Epoch 21/150\n",
      "858/858 - 0s - 568us/step - accuracy: 0.7354 - loss: 0.5447\n",
      "Epoch 22/150\n",
      "858/858 - 0s - 573us/step - accuracy: 0.7338 - loss: 0.5442\n",
      "Epoch 23/150\n",
      "858/858 - 0s - 570us/step - accuracy: 0.7340 - loss: 0.5433\n",
      "Epoch 24/150\n",
      "858/858 - 1s - 584us/step - accuracy: 0.7333 - loss: 0.5439\n",
      "Epoch 25/150\n",
      "858/858 - 1s - 599us/step - accuracy: 0.7351 - loss: 0.5425\n",
      "Epoch 26/150\n",
      "858/858 - 1s - 585us/step - accuracy: 0.7364 - loss: 0.5420\n",
      "Epoch 27/150\n",
      "858/858 - 0s - 582us/step - accuracy: 0.7352 - loss: 0.5419\n",
      "Epoch 28/150\n",
      "858/858 - 1s - 590us/step - accuracy: 0.7360 - loss: 0.5416\n",
      "Epoch 29/150\n",
      "858/858 - 1s - 728us/step - accuracy: 0.7348 - loss: 0.5424\n",
      "Epoch 30/150\n",
      "858/858 - 1s - 607us/step - accuracy: 0.7354 - loss: 0.5416\n",
      "Epoch 31/150\n",
      "858/858 - 1s - 637us/step - accuracy: 0.7364 - loss: 0.5409\n",
      "Epoch 32/150\n",
      "858/858 - 0s - 568us/step - accuracy: 0.7358 - loss: 0.5405\n",
      "Epoch 33/150\n",
      "858/858 - 0s - 566us/step - accuracy: 0.7357 - loss: 0.5409\n",
      "Epoch 34/150\n",
      "858/858 - 0s - 565us/step - accuracy: 0.7356 - loss: 0.5409\n",
      "Epoch 35/150\n",
      "858/858 - 0s - 558us/step - accuracy: 0.7358 - loss: 0.5406\n",
      "Epoch 36/150\n",
      "858/858 - 0s - 558us/step - accuracy: 0.7354 - loss: 0.5406\n",
      "Epoch 37/150\n",
      "858/858 - 0s - 559us/step - accuracy: 0.7364 - loss: 0.5402\n",
      "Epoch 38/150\n",
      "858/858 - 0s - 559us/step - accuracy: 0.7378 - loss: 0.5393\n",
      "Epoch 39/150\n",
      "858/858 - 0s - 557us/step - accuracy: 0.7370 - loss: 0.5394\n",
      "Epoch 40/150\n",
      "858/858 - 0s - 561us/step - accuracy: 0.7363 - loss: 0.5398\n",
      "Epoch 41/150\n",
      "858/858 - 0s - 563us/step - accuracy: 0.7370 - loss: 0.5392\n",
      "Epoch 42/150\n",
      "858/858 - 0s - 564us/step - accuracy: 0.7388 - loss: 0.5387\n",
      "Epoch 43/150\n",
      "858/858 - 0s - 565us/step - accuracy: 0.7375 - loss: 0.5391\n",
      "Epoch 44/150\n",
      "858/858 - 0s - 571us/step - accuracy: 0.7363 - loss: 0.5388\n",
      "Epoch 45/150\n",
      "858/858 - 0s - 562us/step - accuracy: 0.7359 - loss: 0.5383\n",
      "Epoch 46/150\n",
      "858/858 - 0s - 563us/step - accuracy: 0.7365 - loss: 0.5377\n",
      "Epoch 47/150\n",
      "858/858 - 0s - 564us/step - accuracy: 0.7373 - loss: 0.5379\n",
      "Epoch 48/150\n",
      "858/858 - 0s - 566us/step - accuracy: 0.7385 - loss: 0.5380\n",
      "Epoch 49/150\n",
      "858/858 - 0s - 565us/step - accuracy: 0.7371 - loss: 0.5373\n",
      "Epoch 50/150\n",
      "858/858 - 0s - 561us/step - accuracy: 0.7390 - loss: 0.5374\n",
      "Epoch 51/150\n",
      "858/858 - 1s - 641us/step - accuracy: 0.7385 - loss: 0.5379\n",
      "Epoch 52/150\n",
      "858/858 - 1s - 623us/step - accuracy: 0.7377 - loss: 0.5367\n",
      "Epoch 53/150\n",
      "858/858 - 1s - 613us/step - accuracy: 0.7376 - loss: 0.5374\n",
      "Epoch 54/150\n",
      "858/858 - 1s - 599us/step - accuracy: 0.7390 - loss: 0.5363\n",
      "Epoch 55/150\n",
      "858/858 - 0s - 569us/step - accuracy: 0.7384 - loss: 0.5373\n",
      "Epoch 56/150\n",
      "858/858 - 0s - 564us/step - accuracy: 0.7378 - loss: 0.5372\n",
      "Epoch 57/150\n",
      "858/858 - 0s - 562us/step - accuracy: 0.7376 - loss: 0.5364\n",
      "Epoch 58/150\n",
      "858/858 - 0s - 566us/step - accuracy: 0.7379 - loss: 0.5363\n",
      "Epoch 59/150\n",
      "858/858 - 0s - 566us/step - accuracy: 0.7380 - loss: 0.5359\n",
      "Epoch 60/150\n",
      "858/858 - 1s - 592us/step - accuracy: 0.7394 - loss: 0.5365\n",
      "Epoch 61/150\n",
      "858/858 - 1s - 615us/step - accuracy: 0.7391 - loss: 0.5363\n",
      "Epoch 62/150\n",
      "858/858 - 0s - 574us/step - accuracy: 0.7378 - loss: 0.5366\n",
      "Epoch 63/150\n",
      "858/858 - 0s - 563us/step - accuracy: 0.7376 - loss: 0.5357\n",
      "Epoch 64/150\n",
      "858/858 - 1s - 653us/step - accuracy: 0.7388 - loss: 0.5357\n",
      "Epoch 65/150\n",
      "858/858 - 1s - 600us/step - accuracy: 0.7388 - loss: 0.5352\n",
      "Epoch 66/150\n",
      "858/858 - 0s - 582us/step - accuracy: 0.7393 - loss: 0.5355\n",
      "Epoch 67/150\n",
      "858/858 - 0s - 577us/step - accuracy: 0.7401 - loss: 0.5354\n",
      "Epoch 68/150\n",
      "858/858 - 1s - 584us/step - accuracy: 0.7381 - loss: 0.5348\n",
      "Epoch 69/150\n",
      "858/858 - 0s - 576us/step - accuracy: 0.7390 - loss: 0.5342\n",
      "Epoch 70/150\n",
      "858/858 - 0s - 580us/step - accuracy: 0.7378 - loss: 0.5354\n",
      "Epoch 71/150\n",
      "858/858 - 0s - 575us/step - accuracy: 0.7388 - loss: 0.5346\n",
      "Epoch 72/150\n",
      "858/858 - 0s - 571us/step - accuracy: 0.7381 - loss: 0.5350\n",
      "Epoch 73/150\n",
      "858/858 - 0s - 582us/step - accuracy: 0.7393 - loss: 0.5338\n",
      "Epoch 74/150\n",
      "858/858 - 0s - 578us/step - accuracy: 0.7387 - loss: 0.5340\n",
      "Epoch 75/150\n",
      "858/858 - 0s - 573us/step - accuracy: 0.7399 - loss: 0.5350\n",
      "Epoch 76/150\n",
      "858/858 - 0s - 572us/step - accuracy: 0.7386 - loss: 0.5339\n",
      "Epoch 77/150\n",
      "858/858 - 0s - 573us/step - accuracy: 0.7372 - loss: 0.5349\n",
      "Epoch 78/150\n",
      "858/858 - 0s - 575us/step - accuracy: 0.7386 - loss: 0.5343\n"
     ]
    }
   ],
   "source": [
    "# Train the model with EarlyStopping and more epochs\n",
    "fit_model_third = nn_third.fit(\n",
    "    X_train_scaled, y_train, \n",
    "    epochs=150, batch_size=32, \n",
    "    verbose=2, callbacks=[early_stopping]\n",
    ")"
   ]
  },
  {
   "cell_type": "code",
   "execution_count": 23,
   "metadata": {},
   "outputs": [
    {
     "name": "stdout",
     "output_type": "stream",
     "text": [
      "215/215 - 0s - 781us/step - accuracy: 0.7265 - loss: 0.5684\n",
      "Third Attempt Loss: 0.5684, Accuracy: 0.7265\n"
     ]
    }
   ],
   "source": [
    "# Evaluate the optimized model (third attempt)\n",
    "model_loss_third, model_accuracy_third = nn_third.evaluate(X_test_scaled, y_test, verbose=2)\n",
    "print(f\"Third Attempt Loss: {model_loss_third:.4f}, Accuracy: {model_accuracy_third:.4f}\")"
   ]
  },
  {
   "cell_type": "code",
   "execution_count": 25,
   "metadata": {},
   "outputs": [],
   "source": [
    "# Export our model to HDF5 file\n",
    "nn_third.save('AlphabetSoupCharity_Optimization.keras')"
   ]
  }
 ],
 "metadata": {
  "kernelspec": {
   "display_name": "Python 3",
   "language": "python",
   "name": "python3"
  },
  "language_info": {
   "codemirror_mode": {
    "name": "ipython",
    "version": 3
   },
   "file_extension": ".py",
   "mimetype": "text/x-python",
   "name": "python",
   "nbconvert_exporter": "python",
   "pygments_lexer": "ipython3",
   "version": "3.12.3"
  },
  "vscode": {
   "interpreter": {
    "hash": "31f2aee4e71d21fbe5cf8b01ff0e069b9275f58929596ceb00d14d90e3e16cd6"
   }
  }
 },
 "nbformat": 4,
 "nbformat_minor": 4
}
